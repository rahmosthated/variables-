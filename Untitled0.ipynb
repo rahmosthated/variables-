{
  "nbformat": 4,
  "nbformat_minor": 0,
  "metadata": {
    "colab": {
      "provenance": [],
      "mount_file_id": "14la2TRPFDZYicL1C6vqgq1580DpPG69l",
      "authorship_tag": "ABX9TyNJu4ZK32cQ9WsZd8lsnayI",
      "include_colab_link": true
    },
    "kernelspec": {
      "name": "python3",
      "display_name": "Python 3"
    },
    "language_info": {
      "name": "python"
    }
  },
  "cells": [
    {
      "cell_type": "markdown",
      "metadata": {
        "id": "view-in-github",
        "colab_type": "text"
      },
      "source": [
        "<a href=\"https://colab.research.google.com/github/rahmosthated/variables-/blob/main/Untitled0.ipynb\" target=\"_parent\"><img src=\"https://colab.research.google.com/assets/colab-badge.svg\" alt=\"Open In Colab\"/></a>"
      ]
    },
    {
      "cell_type": "code",
      "source": [
        "# Ask the user for the price of a coffee\n",
        "coffee_price = float(input(\"Enter the price of the coffee: $\"))\n",
        "\n",
        "# Ask the user for the price of a pastry\n",
        "pastry_price = float(input(\"Enter the price of the pastry: $\"))\n",
        "\n",
        "# Add the prices together\n",
        "total_cost = coffee_price + pastry_price\n",
        "\n",
        "# Print the total cost\n",
        "print(f\"The total cost is: ${total_cost:.2f}\")\n",
        "\n",
        "#tested this by putting in a calcultor of coffee $8 price,then pastry price of $9 and got the sum of $17"
      ],
      "metadata": {
        "colab": {
          "base_uri": "https://localhost:8080/"
        },
        "id": "ZGJY_pD7y0W8",
        "outputId": "1c5588f1-e914-45bd-a850-132a6b6d8202"
      },
      "execution_count": 1,
      "outputs": [
        {
          "output_type": "stream",
          "name": "stdout",
          "text": [
            "Enter the price of the coffee: $8\n",
            "Enter the price of the pastry: $9\n",
            "The total cost is: $17.00\n"
          ]
        }
      ]
    },
    {
      "cell_type": "code",
      "source": [
        "# Ask the user for the distance between the cities in miles\n",
        "distance = float(input(\"Enter the distance between the cities (in miles): \"))\n",
        "\n",
        "# Ask the user for the planned speed in miles per hour\n",
        "speed = float(input(\"Enter your planned speed (in miles per hour): \"))\n",
        "\n",
        "# Calculate the travel time\n",
        "travel_time = distance / speed\n",
        "\n",
        "# Print the estimated travel time\n",
        "print(f\"Estimated travel time: {travel_time:.2f} hours\")\n",
        "\n",
        "#Tested this by entering the distance of 7 miles, divided by the planned speed per hour of 5 and got the sum of 1.4 hours\n"
      ],
      "metadata": {
        "colab": {
          "base_uri": "https://localhost:8080/"
        },
        "id": "sHsa4bO5zFwA",
        "outputId": "baa8fa3d-1cc4-4057-f60a-093de40b36c8"
      },
      "execution_count": null,
      "outputs": [
        {
          "output_type": "stream",
          "name": "stdout",
          "text": [
            "Enter the distance between the cities (in miles): 7\n",
            "Enter your planned speed (in miles per hour): 5\n",
            "Estimated travel time: 1.40 hours\n"
          ]
        }
      ]
    },
    {
      "cell_type": "code",
      "source": [
        "# Ask the user for the price of a notebook\n",
        "notebook_price = float(input(\"Enter the price of the notebook: $\"))\n",
        "\n",
        "# Ask the user for the price of a pen\n",
        "pen_price = float(input(\"Enter the price of the pen: $\"))\n",
        "\n",
        "# Ask the user for the price of a backpack\n",
        "backpack_price = float(input(\"Enter the price of the backpack: $\"))\n",
        "\n",
        "# Add the prices together\n",
        "total_cost = notebook_price + pen_price + backpack_price\n",
        "\n",
        "# Print the total cost\n",
        "print(f\"The total cost is: ${total_cost:.2f}\")\n",
        "\n",
        "#tested this by adding the price of notebook $5 , plus price of pen $1 , plus price of a backpack $12 got the sum of $18\n"
      ],
      "metadata": {
        "colab": {
          "base_uri": "https://localhost:8080/"
        },
        "id": "onEMYVC9zPYK",
        "outputId": "8ef6f984-50c6-4164-ff67-e0b1278c0aa9"
      },
      "execution_count": null,
      "outputs": [
        {
          "output_type": "stream",
          "name": "stdout",
          "text": [
            "Enter the price of the notebook: $5\n",
            "Enter the price of the pen: $1\n",
            "Enter the price of the backpack: $12\n",
            "The total cost is: $18.00\n"
          ]
        }
      ]
    },
    {
      "cell_type": "code",
      "source": [
        "# Ask the user for the current year\n",
        "current_year = int(input(\"Enter the current year: \"))\n",
        "\n",
        "# Ask the user for their birth year\n",
        "birth_year = int(input(\"Enter your birth year: \"))\n",
        "\n",
        "# Calculate the user's age\n",
        "age = current_year - birth_year\n",
        "\n",
        "# Print the user's age\n",
        "print(f\"You are {age} years old.\")\n",
        "\n",
        " #tested this by taking the current year which is 2025, subtract by the brith year 1997, got the sum of 28 years old"
      ],
      "metadata": {
        "colab": {
          "base_uri": "https://localhost:8080/"
        },
        "id": "XlcMLanJy_n3",
        "outputId": "e2b2d4c1-40fe-45c4-e8ab-875174bb442f"
      },
      "execution_count": null,
      "outputs": [
        {
          "output_type": "stream",
          "name": "stdout",
          "text": [
            "Enter the current year: 2025\n",
            "Enter your birth year: 1997\n",
            "You are 28 years old.\n"
          ]
        }
      ]
    },
    {
      "cell_type": "code",
      "source": [
        "# Ask the user for the number of pizzas\n",
        "num_pizzas = int(input(\"Enter the number of pizzas: \"))\n",
        "\n",
        "# Ask the user for the number of slices per pizza\n",
        "slices_per_pizza = int(input(\"Enter the number of slices per pizza: \"))\n",
        "\n",
        "# Ask the user for the number of people at the party\n",
        "num_people = int(input(\"Enter the number of people at the party: \"))\n",
        "\n",
        "# Calculate the total number of slices\n",
        "total_slices = num_pizzas * slices_per_pizza\n",
        "\n",
        "# Calculate how many slices each person gets\n",
        "slices_per_person = total_slices // num_people\n",
        "\n",
        "# Print the result\n",
        "print(f\"Each person gets {slices_per_person} slices.\")\n",
        "\n",
        "#tested this by putting in calculator number of pizzas 9, multiple by the number of slices per pizzas 16, then divied by the number of people 20 got the sum of 7"
      ],
      "metadata": {
        "colab": {
          "base_uri": "https://localhost:8080/"
        },
        "id": "JcHo_nDYz3Uy",
        "outputId": "048033b8-ed2e-4b1e-8270-e75517247bbe"
      },
      "execution_count": null,
      "outputs": [
        {
          "output_type": "stream",
          "name": "stdout",
          "text": [
            "Enter the number of pizzas: 9\n",
            "Enter the number of slices per pizza: 16\n",
            "Enter the number of people at the party: 20\n",
            "Each person gets 7 slices.\n"
          ]
        }
      ]
    },
    {
      "cell_type": "code",
      "source": [
        "# Ask the user for their hourly wage\n",
        "hourly_wage = float(input(\"Enter your hourly wage: $\"))\n",
        "\n",
        "# Ask the user for the number of hours they will work\n",
        "hours_worked = float(input(\"Enter the number of hours you will work this week: \"))\n",
        "\n",
        "# Calculate the weekly salary\n",
        "weekly_salary = hourly_wage * hours_worked\n",
        "\n",
        "# Print the total weekly salary\n",
        "print(f\"Your total weekly salary is: ${weekly_salary:.2f}\")\n",
        "\n",
        "#tested this putting in a calcultor hourly wage of $25, then times by how many hours worked 80, get the weekly salary of $2000\n"
      ],
      "metadata": {
        "colab": {
          "base_uri": "https://localhost:8080/"
        },
        "id": "BmVlKBuD0pfr",
        "outputId": "824edb4a-6422-4c1e-f103-3021721bc9e7"
      },
      "execution_count": null,
      "outputs": [
        {
          "output_type": "stream",
          "name": "stdout",
          "text": [
            "Enter your hourly wage: $25\n",
            "Enter the number of hours you will work this week: 80\n",
            "Your total weekly salary is: $2000.00\n"
          ]
        }
      ]
    },
    {
      "cell_type": "code",
      "source": [
        "# Ask the user for the size of the room in square feet\n",
        "room_size = float(input(\"Enter the size of the room in square feet: \"))\n",
        "\n",
        "# Ask the user for the cost of paint per square foot\n",
        "paint_cost_per_sqft = float(input(\"Enter the cost of paint per square foot: $\"))\n",
        "\n",
        "# Calculate the total cost of the paint\n",
        "total_cost = room_size * paint_cost_per_sqft\n",
        "\n",
        "# Print the total cost\n",
        "print(f\"The total cost of the paint is: ${total_cost:.2f}\")\n",
        "\n",
        "# Tested this by putting in a calcultor size of the room 400ft, times cost of paint per square foot $9, got the sum of $3600"
      ],
      "metadata": {
        "colab": {
          "base_uri": "https://localhost:8080/"
        },
        "id": "BlHkturp02s-",
        "outputId": "e684e5f0-3d53-484c-971b-3933b6b225f1"
      },
      "execution_count": null,
      "outputs": [
        {
          "output_type": "stream",
          "name": "stdout",
          "text": [
            "Enter the size of the room in square feet: 400\n",
            "Enter the cost of paint per square foot: $9\n",
            "The total cost of the paint is: $3600.00\n"
          ]
        }
      ]
    },
    {
      "cell_type": "code",
      "source": [],
      "metadata": {
        "id": "PxPxchkxR3Gf"
      },
      "execution_count": null,
      "outputs": []
    }
  ]
}